{
  "nbformat": 4,
  "nbformat_minor": 0,
  "metadata": {
    "colab": {
      "name": "Working with files and directories in Python.ipynb",
      "provenance": []
    },
    "kernelspec": {
      "name": "python3",
      "display_name": "Python 3"
    },
    "language_info": {
      "name": "python"
    }
  },
  "cells": [
    {
      "cell_type": "markdown",
      "metadata": {
        "id": "CE9aK7x7nyjq"
      },
      "source": [
        "\n",
        "**CONTENTS OF THE DEMO:**\n",
        "\n",
        "*1.Traverse through files of a directory in Google Drive*\n",
        "\n",
        "*2.Rename files according to your convenience*\n",
        "\n",
        "*3.Manipulating text file content*\n",
        "\n",
        "*4.Dry Run!!!*\n"
      ]
    },
    {
      "cell_type": "markdown",
      "metadata": {
        "id": "g948OYbQtaWh"
      },
      "source": [
        "**USE-CASE**\n",
        "\n",
        "Imagine a situation where your dataset consists of 1000s of images stored and organized in a directory.How will you pre-process them and finally train your CNN or YOLO model or anything similar???How would you manage to get this data as easily as possible for your project???\n",
        "\n",
        "You can,of course,upload the folder of images to your drive and make use of the following tips which I exclusively used for some of my projects recently.\n",
        "\n",
        "Manipulating text file content will be very useful to convert files from XML format to YOLO format."
      ]
    },
    {
      "cell_type": "markdown",
      "metadata": {
        "id": "giNTqrpppR5J"
      },
      "source": [
        "We can access our folder in Google drive from Google Colab!\n",
        "\n",
        "For this,we must mount our drive\n",
        "\n",
        "Mount drive:"
      ]
    },
    {
      "cell_type": "code",
      "metadata": {
        "id": "4g4j9MQIpidJ"
      },
      "source": [
        "from google.colab import drive"
      ],
      "execution_count": 1,
      "outputs": []
    },
    {
      "cell_type": "code",
      "metadata": {
        "colab": {
          "base_uri": "https://localhost:8080/"
        },
        "id": "gQZd41CDplTi",
        "outputId": "d40952ba-c1bf-4eb5-8cc6-3f77941e2a7b"
      },
      "source": [
        "drive.mount(\"/content/drive\")"
      ],
      "execution_count": 5,
      "outputs": [
        {
          "output_type": "stream",
          "text": [
            "Mounted at /content/drive\n"
          ],
          "name": "stdout"
        }
      ]
    },
    {
      "cell_type": "markdown",
      "metadata": {
        "id": "PEQusj1qpLdr"
      },
      "source": [
        "\n",
        "**1.Traversing a directory in Python:**\n",
        "\n",
        "**os.listdir method:**\n",
        "\n",
        "->It is done using listdir() method available under os module\n",
        "\n",
        "->listdir() returns a list containing the names of the entries in the directory given by path. \n",
        "\n",
        "->The list is in arbitrary order.\n",
        "\n",
        "->Syntax: listdir(path_name)\n",
        "\n",
        "->Its essential to know this because we may have to read images stored in folders to train our CNN models etc., in our projects.Sometimes,data maybe stored in folders!Python thus makes lives easier through the listdir() method.\n",
        "\n",
        "->Sometimes,you may need path names.os.join() can be used to get full pathname of every file\n",
        "\n",
        "\n"
      ]
    },
    {
      "cell_type": "code",
      "metadata": {
        "id": "QBjPN8PisDTt"
      },
      "source": [
        "import os"
      ],
      "execution_count": 6,
      "outputs": []
    },
    {
      "cell_type": "code",
      "metadata": {
        "id": "ctEkBpejpPro"
      },
      "source": [
        "#the following function inputs the path-name of the required directory and traverses through the files stored there,printing their file names\n",
        "\n",
        "def traverseFolderName(path_name):\n",
        "  for files in os.listdir(path_name):\n",
        "    print(\"File name : \",files)     #I am just printing file names here.You can do anything with it such as pre-process those images to train your model!"
      ],
      "execution_count": 7,
      "outputs": []
    },
    {
      "cell_type": "markdown",
      "metadata": {
        "id": "nw_c-T0MuxU7"
      },
      "source": [
        "**2.Renaming files of a directory**\n",
        "\n",
        "->Again,traversal techniques come into picture\n",
        "\n",
        "->But,say,you want to rename images in an organized manner such as :\n",
        "\n",
        "img-1.jpg,img-2.jpg,..................,img-40.jpg instead of random names\n",
        "\n",
        "or you are unable to unzip due to a few files with long pathnames which ought to be truncated.\n",
        "\n",
        "->It can be achieved using another traversal method called enumerate()\n",
        "\n",
        "->Renaming is done using rename() method\n",
        "\n",
        "**(i)os.rename():**\n",
        "\n",
        "->Syntax: os.rename(oldPath,newPath)\n",
        "\n",
        "->oldPath-old path-name of file \n",
        "\n",
        "->newPath-new path name of the file\n",
        "\n",
        "->oldPath is changed to newPath\n",
        "\n",
        "**(ii)enumerate():**\n",
        "\n",
        "->Enumerate() method adds a counter to an iterable and returns it in a form of enumerate object. \n",
        "\n",
        "->This enumerate object can then be used directly in for loops or be converted into a list of tuples using list() method.\n",
        "\n",
        "->We can simply pass os.listdir(path_name) to enumerate() method.\n",
        "\n",
        "->os.listdir() has all the files in the directory\n",
        "\n",
        "->It can be used very easily for renaming files of a directory in an organized manner.\n",
        "\n"
      ]
    },
    {
      "cell_type": "code",
      "metadata": {
        "id": "oaZL6WWKwQGv"
      },
      "source": [
        "\n",
        "#below function inputs path of the directory,renames every file in it to an organized name\n",
        "\n",
        "def renameFiles(path_name):\n",
        "  for count,f in enumerate(os.listdir(path_name)):\n",
        "\n",
        "    newPath=path_name+\"/pic-\"+str(count)+\".jpg\"\n",
        "\n",
        "    oldPath=path_name+\"/\"+f    \n",
        "    #oldPath=path_name+\"/\"+f  joins basic path and file's name to get total path of the file.This is needed otherwise we cannot locate the file\n",
        "    \n",
        "    os.rename(oldPath,newPath)  #renames file from oldPath to newPath\n",
        "\n"
      ],
      "execution_count": 25,
      "outputs": []
    },
    {
      "cell_type": "markdown",
      "metadata": {
        "id": "yFaBDhiBy2ye"
      },
      "source": [
        "**3.Manipulate file contents of text files in a directory:**\n",
        "\n",
        "->Say,we have a directory of 100s of text files \n",
        "\n",
        "->Every text file is in a format-space-separated data of a string followed by 4 numbers\n",
        "\n",
        "->But,we want all the strings to be changed to 0\n",
        "\n",
        "->Its hectic and time-consuming to do such a mundane task manually.\n",
        "\n",
        "->The below code makes our lives easier!We can customize our txt files as required"
      ]
    },
    {
      "cell_type": "code",
      "metadata": {
        "id": "Tlim-qJTy3Aw"
      },
      "source": [
        "#below function inputs path of the directory which has text files in it\n",
        "\n",
        "def manipulateFiles(path_name):\n",
        "  for f in os.listdir(path_name):\n",
        "    pname=path_name+\"/\"+f \n",
        "    fr=open(pname,\"r\")\n",
        "    fw=open(pname+\"-final.txt\",\"w\")\n",
        "    for lines in fr: \n",
        "       #loop through a file line-by-line\n",
        "       data=lines.split(\" \")\n",
        "       data[0]=\"0\"\n",
        "       newData=data[0]+\" \"+data[1]+\" \"+data[2]+\" \"+data[3]+\" \"+data[4]\n",
        "       fw.write(newData)\n",
        "    fr.close()\n",
        "    fw.close()\n",
        "\n",
        "\n",
        "\n"
      ],
      "execution_count": 50,
      "outputs": []
    },
    {
      "cell_type": "markdown",
      "metadata": {
        "id": "3cytc22V33xx"
      },
      "source": [
        "**4.Dry Run!!!**\n",
        "\n",
        "->You can upload the required folder to your drive,then mount drive to colab and then work with the above!!!"
      ]
    },
    {
      "cell_type": "code",
      "metadata": {
        "colab": {
          "base_uri": "https://localhost:8080/"
        },
        "id": "8fbm5HqE4H2H",
        "outputId": "40b52fab-39cd-4905-bcaf-71e510075f66"
      },
      "source": [
        "path_name=\"/content/drive/MyDrive/refrigerator\"  #give the path of your directory in google drive.\n",
        "\n",
        "print(\"File names:\")\n",
        "traverseFolderName(path_name)\n",
        "\n",
        "\n",
        "print(\"Renaming images...\")\n",
        "renameFiles(path_name)\n",
        "\n",
        "path_name2=\"/content/drive/MyDrive/text files\"\n",
        "print(\"Manipulating text files....\")\n",
        "manipulateFiles(path_name2)\n"
      ],
      "execution_count": 51,
      "outputs": [
        {
          "output_type": "stream",
          "text": [
            "File names:\n",
            "File name :  pic-0.jpg\n",
            "File name :  pic-1.jpg\n",
            "File name :  pic-2.jpg\n",
            "File name :  pic-3.jpg\n",
            "File name :  pic-4.jpg\n",
            "File name :  pic-5.jpg\n",
            "File name :  pic-6.jpg\n",
            "File name :  pic-7.jpg\n",
            "File name :  pic-8.jpg\n",
            "File name :  pic-9.jpg\n",
            "File name :  pic-10.jpg\n",
            "File name :  pic-11.jpg\n",
            "File name :  pic-12.jpg\n",
            "File name :  pic-13.jpg\n",
            "File name :  pic-14.jpg\n",
            "File name :  pic-15.jpg\n",
            "Renaming images...\n",
            "Manipulating text files....\n"
          ],
          "name": "stdout"
        }
      ]
    }
  ]
}